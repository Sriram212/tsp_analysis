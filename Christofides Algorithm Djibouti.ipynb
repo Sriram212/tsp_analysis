{
 "cells": [
  {
   "cell_type": "code",
   "execution_count": 11,
   "id": "7fcd4580",
   "metadata": {},
   "outputs": [],
   "source": [
    "from timeit import default_timer as timer"
   ]
  },
  {
   "cell_type": "code",
   "execution_count": 12,
   "id": "0b63b492",
   "metadata": {},
   "outputs": [],
   "source": [
    "def generate_cities(file):\n",
    "    file1 = open(file, 'r')\n",
    "    start = False\n",
    "    cities_list = []\n",
    "\n",
    "    while True:\n",
    "\n",
    "        # Get next line from file\n",
    "        line = file1.readline()\n",
    "\n",
    "        # if line is empty\n",
    "        # end of file is reached\n",
    "        if not line:\n",
    "            break\n",
    "\n",
    "        if start:\n",
    "            citystr, xstr, ystr = line.rstrip().split()\n",
    "            city = citystr\n",
    "            x = float(xstr)\n",
    "            y = float(ystr)\n",
    "            cities_list.append([x, y])\n",
    "\n",
    "        if line == \"NODE_COORD_SECTION\\n\":\n",
    "            start = True\n",
    "    file1.close()\n",
    "    return cities_list"
   ]
  },
  {
   "cell_type": "code",
   "execution_count": 22,
   "id": "da04d327",
   "metadata": {},
   "outputs": [],
   "source": [
    "def tsp(data):\n",
    "    # build a graph\n",
    "    G = build_graph(data)\n",
    "    #print(\"Graph: \", G)\n",
    "\n",
    "    # build a minimum spanning tree\n",
    "    MSTree = minimum_spanning_tree(G)\n",
    "    #print(\"MSTree: \", MSTree)\n",
    "\n",
    "    # find odd vertexes\n",
    "    odd_vertexes = find_odd_vertexes(MSTree)\n",
    "    #print(\"Odd vertexes in MSTree: \", odd_vertexes)\n",
    "\n",
    "    # add minimum weight matching edges to MST\n",
    "    minimum_weight_matching(MSTree, G, odd_vertexes)\n",
    "    #print(\"Minimum weight matching: \", MSTree)\n",
    "\n",
    "    # find an eulerian tour\n",
    "    eulerian_tour = find_eulerian_tour(MSTree, G)\n",
    "\n",
    "    #print(\"Eulerian tour: \", eulerian_tour)\n",
    "\n",
    "    current = eulerian_tour[0]\n",
    "    path = [current]\n",
    "    visited = [False] * len(eulerian_tour)\n",
    "    visited[eulerian_tour[0]] = True\n",
    "    length = 0\n",
    "\n",
    "    for v in eulerian_tour:\n",
    "        if not visited[v]:\n",
    "            path.append(v)\n",
    "            visited[v] = True\n",
    "\n",
    "            length += G[current][v]\n",
    "            current = v\n",
    "\n",
    "    length +=G[current][eulerian_tour[0]]\n",
    "    path.append(eulerian_tour[0])\n",
    "\n",
    "    #print(\"Result path: \", path)\n",
    "    print(\"Result length of the path: \", length)\n",
    "\n",
    "    return length, path"
   ]
  },
  {
   "cell_type": "code",
   "execution_count": 15,
   "id": "d60fab46",
   "metadata": {},
   "outputs": [],
   "source": [
    "def get_length(x1, y1, x2, y2):\n",
    "    return ((x1 - x2) ** 2 + (y1 - y2) ** 2) ** (1.0 / 2.0)"
   ]
  },
  {
   "cell_type": "code",
   "execution_count": 16,
   "id": "c61788d1",
   "metadata": {},
   "outputs": [],
   "source": [
    "def build_graph(data):\n",
    "    graph = {}\n",
    "    for this in range(len(data)):\n",
    "        for another_point in range(len(data)):\n",
    "            if this != another_point:\n",
    "                if this not in graph:\n",
    "                    graph[this] = {}\n",
    "\n",
    "                graph[this][another_point] = get_length(data[this][0], data[this][1], data[another_point][0],\n",
    "                                                        data[another_point][1])\n",
    "\n",
    "    return graph"
   ]
  },
  {
   "cell_type": "code",
   "execution_count": 17,
   "id": "54e0d5be",
   "metadata": {},
   "outputs": [],
   "source": [
    "class UnionFind:\n",
    "    def __init__(self):\n",
    "        self.weights = {}\n",
    "        self.parents = {}\n",
    "\n",
    "    def __getitem__(self, object):\n",
    "        if object not in self.parents:\n",
    "            self.parents[object] = object\n",
    "            self.weights[object] = 1\n",
    "            return object\n",
    "\n",
    "        # find path of objects leading to the root\n",
    "        path = [object]\n",
    "        root = self.parents[object]\n",
    "        while root != path[-1]:\n",
    "            path.append(root)\n",
    "            root = self.parents[root]\n",
    "\n",
    "        # compress the path and return\n",
    "        for ancestor in path:\n",
    "            self.parents[ancestor] = root\n",
    "        return root\n",
    "\n",
    "    def __iter__(self):\n",
    "        return iter(self.parents)\n",
    "\n",
    "    def union(self, *objects):\n",
    "        roots = [self[x] for x in objects]\n",
    "        heaviest = max([(self.weights[r], r) for r in roots])[1]\n",
    "        for r in roots:\n",
    "            if r != heaviest:\n",
    "                self.weights[heaviest] += self.weights[r]\n",
    "                self.parents[r] = heaviest"
   ]
  },
  {
   "cell_type": "code",
   "execution_count": 18,
   "id": "f37cd3d9",
   "metadata": {},
   "outputs": [],
   "source": [
    "def minimum_spanning_tree(G):\n",
    "    tree = []\n",
    "    subtrees = UnionFind()\n",
    "    for W, u, v in sorted((G[u][v], u, v) for u in G for v in G[u]):\n",
    "        if subtrees[u] != subtrees[v]:\n",
    "            tree.append((u, v, W))\n",
    "            subtrees.union(u, v)\n",
    "\n",
    "    return tree\n",
    "\n",
    "\n",
    "def find_odd_vertexes(MST):\n",
    "    tmp_g = {}\n",
    "    vertexes = []\n",
    "    for edge in MST:\n",
    "        if edge[0] not in tmp_g:\n",
    "            tmp_g[edge[0]] = 0\n",
    "\n",
    "        if edge[1] not in tmp_g:\n",
    "            tmp_g[edge[1]] = 0\n",
    "\n",
    "        tmp_g[edge[0]] += 1\n",
    "        tmp_g[edge[1]] += 1\n",
    "\n",
    "    for vertex in tmp_g:\n",
    "        if tmp_g[vertex] % 2 == 1:\n",
    "            vertexes.append(vertex)\n",
    "\n",
    "    return vertexes"
   ]
  },
  {
   "cell_type": "code",
   "execution_count": 19,
   "id": "cbf3109e",
   "metadata": {},
   "outputs": [],
   "source": [
    "def minimum_weight_matching(MST, G, odd_vert):\n",
    "    import random\n",
    "    random.shuffle(odd_vert)\n",
    "\n",
    "    while odd_vert:\n",
    "        v = odd_vert.pop()\n",
    "        length = float(\"inf\")\n",
    "        u = 1\n",
    "        closest = 0\n",
    "        for u in odd_vert:\n",
    "            if v != u and G[v][u] < length:\n",
    "                length = G[v][u]\n",
    "                closest = u\n",
    "\n",
    "        MST.append((v, closest, length))\n",
    "        odd_vert.remove(closest)\n",
    "\n",
    "\n",
    "def find_eulerian_tour(MatchedMSTree, G):\n",
    "    # find neigbours\n",
    "    neighbours = {}\n",
    "    for edge in MatchedMSTree:\n",
    "        if edge[0] not in neighbours:\n",
    "            neighbours[edge[0]] = []\n",
    "\n",
    "        if edge[1] not in neighbours:\n",
    "            neighbours[edge[1]] = []\n",
    "\n",
    "        neighbours[edge[0]].append(edge[1])\n",
    "        neighbours[edge[1]].append(edge[0])\n",
    "\n",
    "    # print(\"Neighbours: \", neighbours)\n",
    "\n",
    "    # finds the hamiltonian circuit\n",
    "    start_vertex = MatchedMSTree[0][0]\n",
    "    EP = [neighbours[start_vertex][0]]\n",
    "\n",
    "    while len(MatchedMSTree) > 0:\n",
    "        for i, v in enumerate(EP):\n",
    "            if len(neighbours[v]) > 0:\n",
    "                break\n",
    "\n",
    "        while len(neighbours[v]) > 0:\n",
    "            w = neighbours[v][0]\n",
    "\n",
    "            remove_edge_from_matchedMST(MatchedMSTree, v, w)\n",
    "\n",
    "            del neighbours[v][(neighbours[v].index(w))]\n",
    "            del neighbours[w][(neighbours[w].index(v))]\n",
    "\n",
    "            i += 1\n",
    "            EP.insert(i, w)\n",
    "\n",
    "            v = w\n",
    "\n",
    "    return EP"
   ]
  },
  {
   "cell_type": "code",
   "execution_count": 20,
   "id": "4735b94d",
   "metadata": {},
   "outputs": [],
   "source": [
    "def remove_edge_from_matchedMST(MatchedMST, v1, v2):\n",
    "\n",
    "    for i, item in enumerate(MatchedMST):\n",
    "        if (item[0] == v2 and item[1] == v1) or (item[0] == v1 and item[1] == v2):\n",
    "            del MatchedMST[i]\n",
    "\n",
    "    return MatchedMST"
   ]
  },
  {
   "cell_type": "code",
   "execution_count": 27,
   "id": "2fda86cb",
   "metadata": {},
   "outputs": [
    {
     "name": "stdout",
     "output_type": "stream",
     "text": [
      "Result length of the path:  6770.07692171576\n",
      "Time: 0.003000199999974029\n"
     ]
    }
   ],
   "source": [
    "Djibouti_cities = generate_cities('Djibouti38.tsp')\n",
    "start = timer()\n",
    "tsp(Djibouti_cities)\n",
    "end = timer()\n",
    "print(\"Time: {}\".format(end - start))"
   ]
  },
  {
   "cell_type": "code",
   "execution_count": 28,
   "id": "42e5305e",
   "metadata": {},
   "outputs": [
    {
     "name": "stdout",
     "output_type": "stream",
     "text": [
      "Result length of the path:  96492.20228319717\n",
      "Time: 1.4561769000000027\n"
     ]
    }
   ],
   "source": [
    "Uruguay_cities = generate_cities('Uruguay734.tsp')\n",
    "start = timer()\n",
    "tsp(Uruguay_cities)\n",
    "end = timer()\n",
    "print(\"Time: {}\".format(end - start))"
   ]
  },
  {
   "cell_type": "code",
   "execution_count": 29,
   "id": "0dcf58a4",
   "metadata": {},
   "outputs": [
    {
     "name": "stdout",
     "output_type": "stream",
     "text": [
      "Result length of the path:  111159.97975373719\n",
      "Time: 11.676659900000004\n"
     ]
    }
   ],
   "source": [
    "Oman_cities = generate_cities('Oman1979.tsp')\n",
    "start = timer()\n",
    "tsp(Oman_cities)\n",
    "end = timer()\n",
    "print(\"Time: {}\".format(end - start))"
   ]
  },
  {
   "cell_type": "code",
   "execution_count": null,
   "id": "e13798d8",
   "metadata": {},
   "outputs": [],
   "source": []
  }
 ],
 "metadata": {
  "kernelspec": {
   "display_name": "Python 3.9.13 64-bit (microsoft store)",
   "language": "python",
   "name": "python3"
  },
  "language_info": {
   "codemirror_mode": {
    "name": "ipython",
    "version": 3
   },
   "file_extension": ".py",
   "mimetype": "text/x-python",
   "name": "python",
   "nbconvert_exporter": "python",
   "pygments_lexer": "ipython3",
   "version": "3.9.13"
  },
  "vscode": {
   "interpreter": {
    "hash": "d0cd95bff98d3b2dcf1945b7eeda71dc1ec205b55f3a53858513fd9aa2cc287c"
   }
  }
 },
 "nbformat": 4,
 "nbformat_minor": 5
}
