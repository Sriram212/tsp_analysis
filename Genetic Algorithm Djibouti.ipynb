{
 "cells": [
  {
   "cell_type": "code",
   "execution_count": 2,
   "id": "ed8e82f5",
   "metadata": {},
   "outputs": [],
   "source": [
    "import numpy as np\n",
    "import random\n",
    "from timeit import default_timer as timer\n",
    "from datetime import datetime"
   ]
  },
  {
   "cell_type": "code",
   "execution_count": 31,
   "id": "4a2e026f",
   "metadata": {},
   "outputs": [],
   "source": [
    "def generate_cities(file):\n",
    "    file1 = open(file, 'r')\n",
    "    start = False\n",
    "    cities_dict = {}\n",
    "\n",
    "    while True:\n",
    "\n",
    "        # Get next line from file\n",
    "        line = file1.readline()\n",
    "\n",
    "        # if line is empty\n",
    "        # end of file is reached\n",
    "        if not line:\n",
    "            break\n",
    "\n",
    "        if start:\n",
    "            citystr, xstr, ystr = line.rstrip().split()\n",
    "            city = citystr\n",
    "            x = float(xstr)\n",
    "            y = float(ystr)\n",
    "            cities_dict[city] = [x, y]\n",
    "\n",
    "        if line == \"NODE_COORD_SECTION\\n\":\n",
    "            start = True\n",
    "    file1.close()\n",
    "    return cities_dict"
   ]
  },
  {
   "cell_type": "code",
   "execution_count": 32,
   "id": "09b407ff",
   "metadata": {},
   "outputs": [],
   "source": [
    "# Function to compute the distance between two points\n",
    "def compute_city_distance_coordinates(a,b):\n",
    "    return ((a[0]-b[0])**2+(a[1]-b[1])**2)**0.5\n",
    "\n",
    "def compute_city_distance_names(city_a, city_b, cities_dict):\n",
    "    return compute_city_distance_coordinates(cities_dict[city_a], cities_dict[city_b])"
   ]
  },
  {
   "cell_type": "code",
   "execution_count": 52,
   "id": "b1d6a389",
   "metadata": {},
   "outputs": [
    {
     "data": {
      "text/plain": [
       "{'1': [11003.6111, 42102.5],\n",
       " '2': [11108.6111, 42373.8889],\n",
       " '3': [11133.3333, 42885.8333],\n",
       " '4': [11155.8333, 42712.5],\n",
       " '5': [11183.3333, 42933.3333],\n",
       " '6': [11297.5, 42853.3333],\n",
       " '7': [11310.2778, 42929.4444],\n",
       " '8': [11416.6667, 42983.3333],\n",
       " '9': [11423.8889, 43000.2778],\n",
       " '10': [11438.3333, 42057.2222],\n",
       " '11': [11461.1111, 43252.7778],\n",
       " '12': [11485.5556, 43187.2222],\n",
       " '13': [11503.0556, 42855.2778],\n",
       " '14': [11511.3889, 42106.3889],\n",
       " '15': [11522.2222, 42841.9444],\n",
       " '16': [11569.4444, 43136.6667],\n",
       " '17': [11583.3333, 43150.0],\n",
       " '18': [11595.0, 43148.0556],\n",
       " '19': [11600.0, 43150.0],\n",
       " '20': [11690.5556, 42686.6667],\n",
       " '21': [11715.8333, 41836.1111],\n",
       " '22': [11751.1111, 42814.4444],\n",
       " '23': [11770.2778, 42651.9444],\n",
       " '24': [11785.2778, 42884.4444],\n",
       " '25': [11822.7778, 42673.6111],\n",
       " '26': [11846.9444, 42660.5556],\n",
       " '27': [11963.0556, 43290.5556],\n",
       " '28': [11973.0556, 43026.1111],\n",
       " '29': [12058.3333, 42195.5556],\n",
       " '30': [12149.4444, 42477.5],\n",
       " '31': [12286.9444, 43355.5556],\n",
       " '32': [12300.0, 42433.3333],\n",
       " '33': [12355.8333, 43156.3889],\n",
       " '34': [12363.3333, 43189.1667],\n",
       " '35': [12372.7778, 42711.3889],\n",
       " '36': [12386.6667, 43334.7222],\n",
       " '37': [12421.6667, 42895.5556],\n",
       " '38': [12645.0, 42973.3333]}"
      ]
     },
     "execution_count": 52,
     "metadata": {},
     "output_type": "execute_result"
    }
   ],
   "source": [
    "cities_dict = generate_cities(\"Djibouti38.tsp\")\n",
    "names_list = list(cities_dict.keys())\n",
    "names_list = np.array(names_list)\n",
    "mutation_rate = 0.5\n",
    "n_population = 100\n",
    "n_cities = 38\n",
    "cities_dict"
   ]
  },
  {
   "cell_type": "code",
   "execution_count": 53,
   "id": "b89b1c21",
   "metadata": {},
   "outputs": [
    {
     "data": {
      "text/plain": [
       "array([['38', '12', '36', ..., '25', '9', '2'],\n",
       "       ['27', '13', '15', ..., '4', '22', '10'],\n",
       "       ['4', '31', '37', ..., '3', '17', '32'],\n",
       "       ...,\n",
       "       ['23', '2', '18', ..., '8', '27', '24'],\n",
       "       ['18', '31', '22', ..., '27', '4', '37'],\n",
       "       ['31', '9', '32', ..., '16', '5', '21']], dtype='<U2')"
      ]
     },
     "execution_count": 53,
     "metadata": {},
     "output_type": "execute_result"
    }
   ],
   "source": [
    "# First step: Create the first population set\n",
    "def genesis(city_list, n_population):\n",
    "\n",
    "    population_set = []\n",
    "    for i in range(n_population):\n",
    "        #Randomly generating a new solution\n",
    "        sol_i = city_list[np.random.choice(list(range(n_cities)), n_cities, replace=False)]\n",
    "        population_set.append(sol_i)\n",
    "    return np.array(population_set)\n",
    "\n",
    "population_set = genesis(names_list, n_population)\n",
    "population_set"
   ]
  },
  {
   "cell_type": "code",
   "execution_count": 54,
   "id": "bca36170",
   "metadata": {},
   "outputs": [],
   "source": [
    "def fitness_eval(city_list, cities_dict):\n",
    "    total = 0\n",
    "    for i in range(n_cities-1):\n",
    "        a = city_list[i]\n",
    "        b = city_list[i+1]\n",
    "        total += compute_city_distance_names(a,b, cities_dict)\n",
    "    return total"
   ]
  },
  {
   "cell_type": "code",
   "execution_count": 55,
   "id": "630e725b",
   "metadata": {},
   "outputs": [
    {
     "data": {
      "text/plain": [
       "array([27625.65034724, 24326.70428613, 29214.5580219 , 30066.50598963,\n",
       "       23115.80850592, 23212.71702164, 27935.86353034, 24932.25570151,\n",
       "       26661.67456702, 23837.29795075, 25337.48702249, 28436.54042975,\n",
       "       26464.85003736, 24904.51838153, 27106.88620757, 26971.21735531,\n",
       "       23128.47072881, 24868.16842055, 28187.82134702, 26648.23895956,\n",
       "       25818.49707916, 26374.01098834, 28010.05936827, 28841.74789638,\n",
       "       26848.75380928, 27094.86596428, 26240.07677304, 31207.3455451 ,\n",
       "       26655.48623737, 28175.15966798, 26033.69143094, 24758.1197018 ,\n",
       "       26207.57280307, 27338.4078383 , 24688.55242661, 30082.94023312,\n",
       "       27191.86810849, 27892.52590549, 28783.01198647, 23998.93904711,\n",
       "       24957.61040891, 24899.23763447, 26789.24224767, 23120.43470085,\n",
       "       26013.37344527, 25230.51051319, 29587.79732785, 28815.34994849,\n",
       "       27454.23498966, 26765.59239359, 27446.81839987, 27790.52833306,\n",
       "       27455.70235398, 26522.09559913, 27032.86020958, 24988.68514512,\n",
       "       25529.42831503, 26138.7846421 , 28365.26574877, 26418.81461476,\n",
       "       30201.36294772, 27373.39733066, 27058.54882188, 25920.25277988,\n",
       "       26719.72291511, 23737.6890989 , 24771.38220479, 29763.52834503,\n",
       "       29102.30084537, 28252.6218622 , 27483.77776007, 25288.61805422,\n",
       "       25663.60426942, 23844.9594979 , 29699.74527588, 25507.10377369,\n",
       "       30044.54749703, 27053.90992058, 25431.20848684, 27837.91197648,\n",
       "       25785.025719  , 26893.92913635, 25235.26705717, 27280.66067178,\n",
       "       30267.51373141, 28703.44762184, 26887.69623369, 28241.44161267,\n",
       "       26048.67365208, 27682.08257384, 26318.71650058, 27886.50599875,\n",
       "       25728.8796282 , 30046.49471902, 27269.31608256, 28263.05572777,\n",
       "       29026.50872464, 26820.57894463, 26989.90375756, 26981.44180843])"
      ]
     },
     "execution_count": 55,
     "metadata": {},
     "output_type": "execute_result"
    }
   ],
   "source": [
    "def get_all_fitnes(population_set, cities_dict):\n",
    "    fitnes_list = np.zeros(n_population)\n",
    "\n",
    "    #Looping over all solutions computing the fitness for each solution\n",
    "    for i in  range(n_population):\n",
    "        fitnes_list[i] = fitness_eval(population_set[i], cities_dict)\n",
    "\n",
    "    return fitnes_list\n",
    "\n",
    "fitnes_list = get_all_fitnes(population_set,cities_dict)\n",
    "fitnes_list"
   ]
  },
  {
   "cell_type": "code",
   "execution_count": 56,
   "id": "c887e27f",
   "metadata": {},
   "outputs": [
    {
     "data": {
      "text/plain": [
       "array(['25', '8', '35', '7', '37', '33', '2', '1', '29', '14', '28', '20',\n",
       "       '19', '9', '27', '22', '36', '12', '38', '31', '21', '3', '11',\n",
       "       '13', '15', '18', '4', '26', '30', '24', '5', '23', '10', '34',\n",
       "       '17', '16', '6', '32'], dtype='<U2')"
      ]
     },
     "execution_count": 56,
     "metadata": {},
     "output_type": "execute_result"
    }
   ],
   "source": [
    "def progenitor_selection(population_set,fitnes_list):\n",
    "    total_fit = fitnes_list.sum()\n",
    "    prob_list = fitnes_list/total_fit\n",
    "    \n",
    "    #Notice there is the chance that a progenitor. mates with oneself\n",
    "    progenitor_list_a = np.random.choice(list(range(len(population_set))), len(population_set),p=prob_list, replace=True)\n",
    "    progenitor_list_b = np.random.choice(list(range(len(population_set))), len(population_set),p=prob_list, replace=True)\n",
    "    \n",
    "    progenitor_list_a = population_set[progenitor_list_a]\n",
    "    progenitor_list_b = population_set[progenitor_list_b]\n",
    "    \n",
    "    \n",
    "    return np.array([progenitor_list_a,progenitor_list_b])\n",
    "\n",
    "\n",
    "progenitor_list = progenitor_selection(population_set,fitnes_list)\n",
    "progenitor_list[0][2]"
   ]
  },
  {
   "cell_type": "code",
   "execution_count": 57,
   "id": "78021834",
   "metadata": {},
   "outputs": [
    {
     "data": {
      "text/plain": [
       "array(['18', '32', '37', '1', '5', '2', '16', '20', '22', '12', '17',\n",
       "       '15', '30', '7', '31', '14', '10', '11', '13', '24', '8', '6',\n",
       "       '33', '35', '34', '3', '27', '9', '38', '36', '4', '29', '23',\n",
       "       '21', '19', '26', '25', '28'], dtype='<U2')"
      ]
     },
     "execution_count": 57,
     "metadata": {},
     "output_type": "execute_result"
    }
   ],
   "source": [
    "def mate_progenitors(prog_a, prog_b):\n",
    "    offspring = prog_a[0:5]\n",
    "\n",
    "    for city in prog_b:\n",
    "\n",
    "        if not city in offspring:\n",
    "            offspring = np.concatenate((offspring,[city]))\n",
    "\n",
    "    return offspring\n",
    "            \n",
    "    \n",
    "    \n",
    "def mate_population(progenitor_list):\n",
    "    new_population_set = []\n",
    "    for i in range(progenitor_list.shape[1]):\n",
    "        prog_a, prog_b = progenitor_list[0][i], progenitor_list[1][i]\n",
    "        offspring = mate_progenitors(prog_a, prog_b)\n",
    "        new_population_set.append(offspring)\n",
    "        \n",
    "    return new_population_set\n",
    "\n",
    "new_population_set = mate_population(progenitor_list)\n",
    "new_population_set[0]"
   ]
  },
  {
   "cell_type": "code",
   "execution_count": 58,
   "id": "d31def4f",
   "metadata": {},
   "outputs": [
    {
     "data": {
      "text/plain": [
       "array(['1', '16', '37', '22', '5', '2', '33', '20', '19', '4', '32', '34',\n",
       "       '13', '7', '18', '14', '10', '6', '24', '11', '8', '17', '26',\n",
       "       '35', '15', '3', '25', '21', '38', '36', '12', '29', '23', '9',\n",
       "       '30', '31', '27', '28'], dtype='<U2')"
      ]
     },
     "execution_count": 58,
     "metadata": {},
     "output_type": "execute_result"
    }
   ],
   "source": [
    "def mutate_offspring(offspring):\n",
    "    for q in range(int(n_cities*mutation_rate)):\n",
    "        a = np.random.randint(0,n_cities)\n",
    "        b = np.random.randint(0,n_cities)\n",
    "\n",
    "        offspring[a], offspring[b] = offspring[b], offspring[a]\n",
    "\n",
    "    return offspring\n",
    "    \n",
    "    \n",
    "def mutate_population(new_population_set):\n",
    "    mutated_pop = []\n",
    "    for offspring in new_population_set:\n",
    "        mutated_pop.append(mutate_offspring(offspring))\n",
    "    return mutated_pop\n",
    "\n",
    "mutated_pop = mutate_population(new_population_set)\n",
    "mutated_pop[0]"
   ]
  },
  {
   "cell_type": "code",
   "execution_count": 61,
   "id": "920f0069",
   "metadata": {},
   "outputs": [
    {
     "name": "stdout",
     "output_type": "stream",
     "text": [
      "0 22134.325091499457 26662.715685757852 15/12/22 14:50\n",
      "100 21680.375397243966 26714.65876763349 15/12/22 14:50\n",
      "200 22225.411767221365 27141.314815079142 15/12/22 14:50\n",
      "300 23211.423271788237 27114.79925427335 15/12/22 14:50\n",
      "400 22721.68482459427 27135.958502201483 15/12/22 14:51\n",
      "Time: 16.74621070000012\n"
     ]
    }
   ],
   "source": [
    "best_solution = [-1,np.inf,np.array([])]\n",
    "start = timer()\n",
    "for i in range(500):\n",
    "    if i%100==0: print(i, fitnes_list.min(), fitnes_list.mean(), datetime.now().strftime(\"%d/%m/%y %H:%M\"))\n",
    "    fitnes_list = get_all_fitnes(mutated_pop,cities_dict)\n",
    "    \n",
    "    #Saving the best solution\n",
    "    if fitnes_list.min() < best_solution[1]:\n",
    "        best_solution[0] = i\n",
    "        best_solution[1] = fitnes_list.min()\n",
    "        best_solution[2] = np.array(mutated_pop)[fitnes_list.min() == fitnes_list]\n",
    "    \n",
    "    progenitor_list = progenitor_selection(population_set,fitnes_list)\n",
    "    new_population_set = mate_population(progenitor_list)\n",
    "    \n",
    "    mutated_pop = mutate_population(new_population_set)\n",
    "end = timer()\n",
    "print(\"Time: {}\".format(end - start))"
   ]
  },
  {
   "cell_type": "code",
   "execution_count": 63,
   "id": "8d8aaf0d",
   "metadata": {},
   "outputs": [
    {
     "data": {
      "text/plain": [
       "19264.906481947597"
      ]
     },
     "execution_count": 63,
     "metadata": {},
     "output_type": "execute_result"
    }
   ],
   "source": [
    "best_solution[1]"
   ]
  },
  {
   "cell_type": "code",
   "execution_count": null,
   "id": "326596ee",
   "metadata": {},
   "outputs": [],
   "source": []
  }
 ],
 "metadata": {
  "kernelspec": {
   "display_name": "Python 3.9.13 64-bit (microsoft store)",
   "language": "python",
   "name": "python3"
  },
  "language_info": {
   "codemirror_mode": {
    "name": "ipython",
    "version": 3
   },
   "file_extension": ".py",
   "mimetype": "text/x-python",
   "name": "python",
   "nbconvert_exporter": "python",
   "pygments_lexer": "ipython3",
   "version": "3.9.13"
  },
  "vscode": {
   "interpreter": {
    "hash": "d0cd95bff98d3b2dcf1945b7eeda71dc1ec205b55f3a53858513fd9aa2cc287c"
   }
  }
 },
 "nbformat": 4,
 "nbformat_minor": 5
}
