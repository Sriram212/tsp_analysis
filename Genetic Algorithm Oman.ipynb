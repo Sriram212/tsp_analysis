{
 "cells": [
  {
   "cell_type": "code",
   "execution_count": 1,
   "id": "897c671e",
   "metadata": {},
   "outputs": [],
   "source": [
    "import numpy as np\n",
    "import random\n",
    "from timeit import default_timer as timer\n",
    "from datetime import datetime"
   ]
  },
  {
   "cell_type": "code",
   "execution_count": 2,
   "id": "098a9d21",
   "metadata": {},
   "outputs": [],
   "source": [
    "def generate_cities(file):\n",
    "    file1 = open(file, 'r')\n",
    "    start = False\n",
    "    cities_dict = {}\n",
    "\n",
    "    while True:\n",
    "\n",
    "        # Get next line from file\n",
    "        line = file1.readline()\n",
    "\n",
    "        # if line is empty\n",
    "        # end of file is reached\n",
    "        if not line:\n",
    "            break\n",
    "\n",
    "        if start:\n",
    "            citystr, xstr, ystr = line.rstrip().split()\n",
    "            city = citystr\n",
    "            x = float(xstr)\n",
    "            y = float(ystr)\n",
    "            cities_dict[city] = [x, y]\n",
    "\n",
    "        if line == \"NODE_COORD_SECTION\\n\":\n",
    "            start = True\n",
    "    file1.close()\n",
    "    return cities_dict"
   ]
  },
  {
   "cell_type": "code",
   "execution_count": 3,
   "id": "3e8eb86f",
   "metadata": {},
   "outputs": [],
   "source": [
    "# Function to compute the distance between two points\n",
    "def compute_city_distance_coordinates(a,b):\n",
    "    return ((a[0]-b[0])**2+(a[1]-b[1])**2)**0.5\n",
    "\n",
    "def compute_city_distance_names(city_a, city_b, cities_dict):\n",
    "    return compute_city_distance_coordinates(cities_dict[city_a], cities_dict[city_b])"
   ]
  },
  {
   "cell_type": "code",
   "execution_count": 12,
   "id": "38908733",
   "metadata": {},
   "outputs": [],
   "source": [
    "cities_dict = generate_cities(\"Oman1979.tsp\")\n",
    "names_list = list(cities_dict.keys())\n",
    "names_list = np.array(names_list)\n",
    "mutation_rate = 0.5\n",
    "n_population = 50\n",
    "n_cities = 1979"
   ]
  },
  {
   "cell_type": "code",
   "execution_count": 13,
   "id": "6e41c9de",
   "metadata": {},
   "outputs": [
    {
     "data": {
      "text/plain": [
       "array([['1690', '1816', '1671', ..., '989', '1601', '575'],\n",
       "       ['1490', '1549', '567', ..., '639', '590', '318'],\n",
       "       ['1813', '387', '1534', ..., '562', '1111', '223'],\n",
       "       ...,\n",
       "       ['68', '290', '1340', ..., '1392', '1826', '677'],\n",
       "       ['1571', '558', '880', ..., '548', '616', '902'],\n",
       "       ['402', '1410', '1846', ..., '571', '1016', '784']], dtype='<U4')"
      ]
     },
     "execution_count": 13,
     "metadata": {},
     "output_type": "execute_result"
    }
   ],
   "source": [
    "# First step: Create the first population set\n",
    "def genesis(city_list, n_population):\n",
    "\n",
    "    population_set = []\n",
    "    for i in range(n_population):\n",
    "        #Randomly generating a new solution\n",
    "        sol_i = city_list[np.random.choice(list(range(n_cities)), n_cities, replace=False)]\n",
    "        population_set.append(sol_i)\n",
    "    return np.array(population_set)\n",
    "\n",
    "population_set = genesis(names_list, n_population)\n",
    "population_set"
   ]
  },
  {
   "cell_type": "code",
   "execution_count": 14,
   "id": "baf5ebc0",
   "metadata": {},
   "outputs": [],
   "source": [
    "def fitness_eval(city_list, cities_dict):\n",
    "    total = 0\n",
    "    for i in range(n_cities-1):\n",
    "        a = city_list[i]\n",
    "        b = city_list[i+1]\n",
    "        total += compute_city_distance_names(a,b, cities_dict)\n",
    "    return total"
   ]
  },
  {
   "cell_type": "code",
   "execution_count": 15,
   "id": "150a85b6",
   "metadata": {},
   "outputs": [
    {
     "data": {
      "text/plain": [
       "array([5567746.82338536, 5550015.31835226, 5576919.00674863,\n",
       "       5618779.19789325, 5605254.85630298, 5585011.13786958,\n",
       "       5616537.97505412, 5655017.6911081 , 5547524.50059884,\n",
       "       5718403.5996448 , 5617349.14095403, 5602113.88186625,\n",
       "       5568988.34666473, 5574479.14069316, 5615045.43048146,\n",
       "       5583850.49562488, 5498096.71621259, 5582191.17622943,\n",
       "       5678560.7381553 , 5550405.85481709, 5585233.27900556,\n",
       "       5653397.39413585, 5543138.34803821, 5605901.36094158,\n",
       "       5741690.5357483 , 5621377.99185804, 5676388.89768901,\n",
       "       5557378.51302775, 5724272.3647379 , 5601649.6745777 ,\n",
       "       5615742.99211273, 5731003.48811874, 5526462.24212038,\n",
       "       5608650.59583906, 5602838.3686553 , 5537257.50315036,\n",
       "       5527669.20817445, 5603683.46311298, 5668838.18473859,\n",
       "       5544427.44233304, 5546953.21865048, 5579119.73951787,\n",
       "       5661378.69525695, 5596271.86594889, 5669378.30236529,\n",
       "       5599754.698764  , 5663940.68406713, 5698250.06202153,\n",
       "       5616001.80770674, 5636181.47700947])"
      ]
     },
     "execution_count": 15,
     "metadata": {},
     "output_type": "execute_result"
    }
   ],
   "source": [
    "def get_all_fitnes(population_set, cities_dict):\n",
    "    fitnes_list = np.zeros(n_population)\n",
    "\n",
    "    #Looping over all solutions computing the fitness for each solution\n",
    "    for i in  range(n_population):\n",
    "        fitnes_list[i] = fitness_eval(population_set[i], cities_dict)\n",
    "\n",
    "    return fitnes_list\n",
    "\n",
    "fitnes_list = get_all_fitnes(population_set,cities_dict)\n",
    "fitnes_list"
   ]
  },
  {
   "cell_type": "code",
   "execution_count": 16,
   "id": "c41c4e54",
   "metadata": {},
   "outputs": [],
   "source": [
    "def progenitor_selection(population_set,fitnes_list):\n",
    "    total_fit = fitnes_list.sum()\n",
    "    prob_list = fitnes_list/total_fit\n",
    "    \n",
    "    #Notice there is the chance that a progenitor. mates with oneself\n",
    "    progenitor_list_a = np.random.choice(list(range(len(population_set))), len(population_set),p=prob_list, replace=True)\n",
    "    progenitor_list_b = np.random.choice(list(range(len(population_set))), len(population_set),p=prob_list, replace=True)\n",
    "    \n",
    "    progenitor_list_a = population_set[progenitor_list_a]\n",
    "    progenitor_list_b = population_set[progenitor_list_b]\n",
    "    \n",
    "    \n",
    "    return np.array([progenitor_list_a,progenitor_list_b])\n",
    "\n",
    "\n",
    "progenitor_list = progenitor_selection(population_set,fitnes_list)"
   ]
  },
  {
   "cell_type": "code",
   "execution_count": 17,
   "id": "26b101ba",
   "metadata": {},
   "outputs": [],
   "source": [
    "def mate_progenitors(prog_a, prog_b):\n",
    "    offspring = prog_a[0:5]\n",
    "\n",
    "    for city in prog_b:\n",
    "\n",
    "        if not city in offspring:\n",
    "            offspring = np.concatenate((offspring,[city]))\n",
    "\n",
    "    return offspring\n",
    "            \n",
    "    \n",
    "    \n",
    "def mate_population(progenitor_list):\n",
    "    new_population_set = []\n",
    "    for i in range(progenitor_list.shape[1]):\n",
    "        prog_a, prog_b = progenitor_list[0][i], progenitor_list[1][i]\n",
    "        offspring = mate_progenitors(prog_a, prog_b)\n",
    "        new_population_set.append(offspring)\n",
    "        \n",
    "    return new_population_set\n",
    "\n",
    "new_population_set = mate_population(progenitor_list)"
   ]
  },
  {
   "cell_type": "code",
   "execution_count": 18,
   "id": "14b9a455",
   "metadata": {},
   "outputs": [],
   "source": [
    "def mutate_offspring(offspring):\n",
    "    for q in range(int(n_cities*mutation_rate)):\n",
    "        a = np.random.randint(0,n_cities)\n",
    "        b = np.random.randint(0,n_cities)\n",
    "\n",
    "        offspring[a], offspring[b] = offspring[b], offspring[a]\n",
    "\n",
    "    return offspring\n",
    "    \n",
    "    \n",
    "def mutate_population(new_population_set):\n",
    "    mutated_pop = []\n",
    "    for offspring in new_population_set:\n",
    "        mutated_pop.append(mutate_offspring(offspring))\n",
    "    return mutated_pop\n",
    "\n",
    "mutated_pop = mutate_population(new_population_set)"
   ]
  },
  {
   "cell_type": "code",
   "execution_count": 19,
   "id": "7576ed4c",
   "metadata": {},
   "outputs": [
    {
     "name": "stdout",
     "output_type": "stream",
     "text": [
      "0 5498096.71621259 5609130.468561614 15/12/22 14:57\n",
      "100 5487468.388502843 5639961.009440341 15/12/22 15:00\n",
      "200 5473944.364723589 5618479.043202379 15/12/22 15:03\n",
      "300 5501527.230701186 5628927.1683054725 15/12/22 15:06\n",
      "400 5397015.294461456 5621456.899105823 15/12/22 15:09\n",
      "Time: 901.8330256\n"
     ]
    }
   ],
   "source": [
    "best_solution = [-1,np.inf,np.array([])]\n",
    "start = timer()\n",
    "for i in range(500):\n",
    "    if i%100==0: print(i, fitnes_list.min(), fitnes_list.mean(), datetime.now().strftime(\"%d/%m/%y %H:%M\"))\n",
    "    fitnes_list = get_all_fitnes(mutated_pop,cities_dict)\n",
    "    \n",
    "    #Saving the best solution\n",
    "    if fitnes_list.min() < best_solution[1]:\n",
    "        best_solution[0] = i\n",
    "        best_solution[1] = fitnes_list.min()\n",
    "        best_solution[2] = np.array(mutated_pop)[fitnes_list.min() == fitnes_list]\n",
    "    \n",
    "    progenitor_list = progenitor_selection(population_set,fitnes_list)\n",
    "    new_population_set = mate_population(progenitor_list)\n",
    "    \n",
    "    mutated_pop = mutate_population(new_population_set)\n",
    "end = timer()\n",
    "print(\"Time: {}\".format(end - start))"
   ]
  },
  {
   "cell_type": "code",
   "execution_count": 20,
   "id": "339a882c",
   "metadata": {},
   "outputs": [
    {
     "data": {
      "text/plain": [
       "5345588.80420102"
      ]
     },
     "execution_count": 20,
     "metadata": {},
     "output_type": "execute_result"
    }
   ],
   "source": [
    "best_solution[1]"
   ]
  },
  {
   "cell_type": "code",
   "execution_count": null,
   "id": "72e1c3f6",
   "metadata": {},
   "outputs": [],
   "source": []
  }
 ],
 "metadata": {
  "kernelspec": {
   "display_name": "Python 3 (ipykernel)",
   "language": "python",
   "name": "python3"
  },
  "language_info": {
   "codemirror_mode": {
    "name": "ipython",
    "version": 3
   },
   "file_extension": ".py",
   "mimetype": "text/x-python",
   "name": "python",
   "nbconvert_exporter": "python",
   "pygments_lexer": "ipython3",
   "version": "3.9.12"
  }
 },
 "nbformat": 4,
 "nbformat_minor": 5
}
