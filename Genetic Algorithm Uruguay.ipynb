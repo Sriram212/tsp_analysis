{
 "cells": [
  {
   "cell_type": "code",
   "execution_count": 20,
   "id": "897c671e",
   "metadata": {},
   "outputs": [],
   "source": [
    "import numpy as np\n",
    "import random\n",
    "from timeit import default_timer as timer\n",
    "from datetime import datetime"
   ]
  },
  {
   "cell_type": "code",
   "execution_count": 21,
   "id": "098a9d21",
   "metadata": {},
   "outputs": [],
   "source": [
    "def generate_cities(file):\n",
    "    file1 = open(file, 'r')\n",
    "    start = False\n",
    "    cities_dict = {}\n",
    "\n",
    "    while True:\n",
    "\n",
    "        # Get next line from file\n",
    "        line = file1.readline()\n",
    "\n",
    "        # if line is empty\n",
    "        # end of file is reached\n",
    "        if not line:\n",
    "            break\n",
    "\n",
    "        if start:\n",
    "            citystr, xstr, ystr = line.rstrip().split()\n",
    "            city = citystr\n",
    "            x = float(xstr)\n",
    "            y = float(ystr)\n",
    "            cities_dict[city] = [x, y]\n",
    "\n",
    "        if line == \"NODE_COORD_SECTION\\n\":\n",
    "            start = True\n",
    "    file1.close()\n",
    "    return cities_dict"
   ]
  },
  {
   "cell_type": "code",
   "execution_count": 22,
   "id": "3e8eb86f",
   "metadata": {},
   "outputs": [],
   "source": [
    "# Function to compute the distance between two points\n",
    "def compute_city_distance_coordinates(a,b):\n",
    "    return ((a[0]-b[0])**2+(a[1]-b[1])**2)**0.5\n",
    "\n",
    "def compute_city_distance_names(city_a, city_b, cities_dict):\n",
    "    return compute_city_distance_coordinates(cities_dict[city_a], cities_dict[city_b])"
   ]
  },
  {
   "cell_type": "code",
   "execution_count": 23,
   "id": "38908733",
   "metadata": {},
   "outputs": [],
   "source": [
    "cities_dict = generate_cities(\"Uruguay734.tsp\")\n",
    "names_list = list(cities_dict.keys())\n",
    "names_list = np.array(names_list)\n",
    "mutation_rate = 0.5\n",
    "n_population = 50\n",
    "n_cities = 734"
   ]
  },
  {
   "cell_type": "code",
   "execution_count": 24,
   "id": "6e41c9de",
   "metadata": {},
   "outputs": [
    {
     "data": {
      "text/plain": [
       "array([['445', '308', '274', ..., '564', '46', '128'],\n",
       "       ['547', '419', '273', ..., '58', '293', '292'],\n",
       "       ['137', '244', '613', ..., '508', '490', '693'],\n",
       "       ...,\n",
       "       ['341', '715', '169', ..., '570', '370', '500'],\n",
       "       ['285', '271', '546', ..., '476', '691', '221'],\n",
       "       ['99', '532', '174', ..., '205', '466', '153']], dtype='<U3')"
      ]
     },
     "execution_count": 24,
     "metadata": {},
     "output_type": "execute_result"
    }
   ],
   "source": [
    "# First step: Create the first population set\n",
    "def genesis(city_list, n_population):\n",
    "\n",
    "    population_set = []\n",
    "    for i in range(n_population):\n",
    "        #Randomly generating a new solution\n",
    "        sol_i = city_list[np.random.choice(list(range(n_cities)), n_cities, replace=False)]\n",
    "        population_set.append(sol_i)\n",
    "    return np.array(population_set)\n",
    "\n",
    "population_set = genesis(names_list, n_population)\n",
    "population_set"
   ]
  },
  {
   "cell_type": "code",
   "execution_count": 25,
   "id": "baf5ebc0",
   "metadata": {},
   "outputs": [],
   "source": [
    "def fitness_eval(city_list, cities_dict):\n",
    "    total = 0\n",
    "    for i in range(n_cities-1):\n",
    "        a = city_list[i]\n",
    "        b = city_list[i+1]\n",
    "        total += compute_city_distance_names(a,b, cities_dict)\n",
    "    return total"
   ]
  },
  {
   "cell_type": "code",
   "execution_count": 26,
   "id": "150a85b6",
   "metadata": {},
   "outputs": [
    {
     "data": {
      "text/plain": [
       "array([1644661.27286831, 1612152.10657685, 1647625.47806837,\n",
       "       1590977.06308052, 1656571.59682174, 1652406.7100953 ,\n",
       "       1649422.53737809, 1679364.7235403 , 1657548.67131056,\n",
       "       1652488.4983897 , 1605241.471301  , 1611324.52968825,\n",
       "       1591779.46547541, 1634401.87929078, 1643525.63285534,\n",
       "       1667825.14918873, 1621641.52618296, 1664522.22428817,\n",
       "       1646044.05578256, 1622735.13780247, 1640202.39936262,\n",
       "       1639672.06499533, 1645934.92151666, 1639264.33005614,\n",
       "       1643865.70190095, 1641422.07514473, 1617891.9324882 ,\n",
       "       1604979.6585842 , 1604050.39917448, 1630564.57666238,\n",
       "       1645895.56574093, 1651317.47665   , 1633049.62740962,\n",
       "       1630866.18396179, 1632183.44009375, 1626006.65375458,\n",
       "       1636589.17585571, 1640416.81195683, 1620456.43773072,\n",
       "       1649227.52671954, 1627546.18047347, 1670527.03387215,\n",
       "       1626663.26349853, 1617779.16949569, 1640688.45996731,\n",
       "       1657091.94808766, 1605916.10986898, 1650581.55023733,\n",
       "       1588182.60407303, 1608868.71578864])"
      ]
     },
     "execution_count": 26,
     "metadata": {},
     "output_type": "execute_result"
    }
   ],
   "source": [
    "def get_all_fitnes(population_set, cities_dict):\n",
    "    fitnes_list = np.zeros(n_population)\n",
    "\n",
    "    #Looping over all solutions computing the fitness for each solution\n",
    "    for i in  range(n_population):\n",
    "        fitnes_list[i] = fitness_eval(population_set[i], cities_dict)\n",
    "\n",
    "    return fitnes_list\n",
    "\n",
    "fitnes_list = get_all_fitnes(population_set,cities_dict)\n",
    "fitnes_list"
   ]
  },
  {
   "cell_type": "code",
   "execution_count": 27,
   "id": "c41c4e54",
   "metadata": {},
   "outputs": [
    {
     "data": {
      "text/plain": [
       "array(['249', '689', '88', '631', '31', '382', '668', '341', '641', '446',\n",
       "       '287', '565', '246', '10', '138', '227', '346', '413', '485',\n",
       "       '221', '396', '582', '45', '142', '53', '522', '229', '67', '653',\n",
       "       '327', '544', '38', '202', '275', '226', '443', '314', '170',\n",
       "       '172', '511', '158', '466', '709', '261', '106', '187', '417',\n",
       "       '174', '630', '462', '112', '128', '729', '5', '554', '390', '247',\n",
       "       '345', '501', '566', '159', '463', '567', '655', '191', '397',\n",
       "       '306', '422', '576', '178', '642', '380', '506', '119', '502',\n",
       "       '72', '374', '435', '609', '492', '633', '662', '508', '589',\n",
       "       '111', '55', '157', '239', '236', '207', '218', '495', '449', '7',\n",
       "       '124', '676', '585', '448', '296', '680', '717', '25', '200',\n",
       "       '366', '550', '486', '161', '457', '264', '414', '347', '467',\n",
       "       '21', '659', '364', '445', '562', '360', '651', '415', '292',\n",
       "       '177', '420', '351', '597', '733', '425', '209', '210', '726',\n",
       "       '335', '82', '432', '378', '164', '603', '320', '353', '610',\n",
       "       '541', '527', '349', '28', '289', '621', '99', '654', '686', '543',\n",
       "       '731', '391', '601', '459', '663', '405', '120', '471', '371',\n",
       "       '127', '690', '385', '442', '451', '699', '228', '453', '254',\n",
       "       '256', '181', '233', '600', '6', '83', '69', '719', '581', '68',\n",
       "       '727', '188', '24', '285', '532', '20', '152', '596', '533', '674',\n",
       "       '703', '40', '542', '135', '568', '282', '145', '57', '60', '330',\n",
       "       '334', '640', '149', '519', '489', '552', '373', '12', '248', '90',\n",
       "       '494', '381', '452', '169', '477', '66', '182', '73', '410', '156',\n",
       "       '556', '329', '197', '41', '259', '365', '375', '632', '594',\n",
       "       '460', '394', '426', '304', '518', '215', '472', '163', '537',\n",
       "       '577', '136', '294', '85', '406', '728', '266', '399', '333',\n",
       "       '498', '263', '206', '196', '47', '273', '551', '165', '698',\n",
       "       '578', '665', '242', '338', '465', '569', '517', '437', '474',\n",
       "       '75', '344', '123', '255', '710', '528', '496', '367', '696',\n",
       "       '536', '297', '262', '387', '677', '280', '357', '131', '299',\n",
       "       '497', '626', '217', '77', '412', '572', '23', '251', '691', '122',\n",
       "       '274', '201', '361', '16', '258', '331', '244', '104', '670',\n",
       "       '512', '279', '290', '276', '625', '579', '635', '483', '606',\n",
       "       '224', '427', '434', '646', '701', '599', '683', '102', '700',\n",
       "       '539', '46', '84', '117', '590', '114', '269', '301', '223', '718',\n",
       "       '602', '198', '503', '81', '194', '250', '491', '416', '611',\n",
       "       '548', '205', '464', '538', '350', '193', '647', '144', '49',\n",
       "       '456', '257', '526', '343', '89', '118', '436', '17', '591', '277',\n",
       "       '173', '433', '132', '288', '195', '664', '685', '531', '308',\n",
       "       '555', '105', '408', '225', '627', '473', '383', '617', '403',\n",
       "       '180', '430', '586', '624', '516', '407', '309', '587', '97',\n",
       "       '409', '76', '484', '19', '183', '13', '4', '444', '560', '479',\n",
       "       '393', '9', '101', '208', '148', '605', '240', '29', '103', '645',\n",
       "       '671', '1', '658', '80', '395', '154', '707', '423', '129', '521',\n",
       "       '283', '295', '61', '712', '684', '147', '534', '564', '355',\n",
       "       '598', '673', '310', '574', '71', '237', '672', '44', '176', '722',\n",
       "       '93', '411', '612', '520', '592', '184', '370', '358', '389',\n",
       "       '439', '513', '679', '580', '559', '604', '11', '714', '553',\n",
       "       '421', '500', '450', '705', '52', '697', '356', '151', '661', '95',\n",
       "       '392', '620', '322', '340', '669', '245', '730', '115', '440',\n",
       "       '475', '708', '8', '359', '139', '461', '438', '648', '363', '74',\n",
       "       '614', '168', '616', '458', '34', '644', '431', '323', '211',\n",
       "       '388', '146', '588', '688', '692', '141', '260', '615', '110',\n",
       "       '213', '724', '693', '558', '716', '715', '22', '623', '298',\n",
       "       '702', '493', '563', '318', '530', '121', '268', '219', '469',\n",
       "       '593', '190', '238', '56', '32', '35', '447', '678', '540', '634',\n",
       "       '311', '523', '319', '636', '286', '424', '575', '272', '30',\n",
       "       '638', '398', '155', '482', '307', '137', '573', '687', '379',\n",
       "       '130', '116', '339', '113', '222', '153', '230', '36', '140',\n",
       "       '487', '189', '87', '337', '39', '150', '203', '504', '15', '166',\n",
       "       '86', '91', '656', '711', '18', '58', '401', '652', '96', '212',\n",
       "       '293', '362', '720', '607', '63', '490', '125', '232', '143',\n",
       "       '265', '220', '480', '732', '278', '199', '419', '499', '618',\n",
       "       '65', '300', '535', '639', '354', '321', '315', '529', '305',\n",
       "       '546', '324', '514', '628', '704', '2', '54', '332', '48', '619',\n",
       "       '126', '281', '302', '179', '721', '316', '524', '171', '384',\n",
       "       '481', '26', '317', '454', '133', '33', '583', '3', '64', '100',\n",
       "       '186', '510', '667', '657', '649', '51', '525', '14', '402', '429',\n",
       "       '570', '545', '270', '109', '175', '62', '185', '428', '622',\n",
       "       '509', '584', '377', '134', '478', '167', '682', '547', '313',\n",
       "       '368', '43', '192', '470', '284', '557', '675', '441', '50', '160',\n",
       "       '613', '291', '643', '78', '725', '515', '400', '37', '561', '352',\n",
       "       '608', '666', '59', '214', '637', '476', '303', '372', '455',\n",
       "       '505', '98', '681', '252', '336', '326', '234', '488', '42', '312',\n",
       "       '253', '723', '79', '235', '348', '216', '386', '694', '162',\n",
       "       '650', '108', '369', '376', '325', '713', '231', '328', '342',\n",
       "       '92', '267', '595', '241', '70', '271', '404', '706', '507', '571',\n",
       "       '27', '549', '695', '660', '629', '243', '204', '107', '734', '94',\n",
       "       '418', '468'], dtype='<U3')"
      ]
     },
     "execution_count": 27,
     "metadata": {},
     "output_type": "execute_result"
    }
   ],
   "source": [
    "def progenitor_selection(population_set,fitnes_list):\n",
    "    total_fit = fitnes_list.sum()\n",
    "    prob_list = fitnes_list/total_fit\n",
    "    \n",
    "    #Notice there is the chance that a progenitor. mates with oneself\n",
    "    progenitor_list_a = np.random.choice(list(range(len(population_set))), len(population_set),p=prob_list, replace=True)\n",
    "    progenitor_list_b = np.random.choice(list(range(len(population_set))), len(population_set),p=prob_list, replace=True)\n",
    "    \n",
    "    progenitor_list_a = population_set[progenitor_list_a]\n",
    "    progenitor_list_b = population_set[progenitor_list_b]\n",
    "    \n",
    "    \n",
    "    return np.array([progenitor_list_a,progenitor_list_b])\n",
    "\n",
    "\n",
    "progenitor_list = progenitor_selection(population_set,fitnes_list)"
   ]
  },
  {
   "cell_type": "code",
   "execution_count": 28,
   "id": "26b101ba",
   "metadata": {},
   "outputs": [],
   "source": [
    "def mate_progenitors(prog_a, prog_b):\n",
    "    offspring = prog_a[0:5]\n",
    "\n",
    "    for city in prog_b:\n",
    "\n",
    "        if not city in offspring:\n",
    "            offspring = np.concatenate((offspring,[city]))\n",
    "\n",
    "    return offspring\n",
    "            \n",
    "    \n",
    "    \n",
    "def mate_population(progenitor_list):\n",
    "    new_population_set = []\n",
    "    for i in range(progenitor_list.shape[1]):\n",
    "        prog_a, prog_b = progenitor_list[0][i], progenitor_list[1][i]\n",
    "        offspring = mate_progenitors(prog_a, prog_b)\n",
    "        new_population_set.append(offspring)\n",
    "        \n",
    "    return new_population_set\n",
    "\n",
    "new_population_set = mate_population(progenitor_list)"
   ]
  },
  {
   "cell_type": "code",
   "execution_count": 29,
   "id": "14b9a455",
   "metadata": {},
   "outputs": [],
   "source": [
    "def mutate_offspring(offspring):\n",
    "    for q in range(int(n_cities*mutation_rate)):\n",
    "        a = np.random.randint(0,n_cities)\n",
    "        b = np.random.randint(0,n_cities)\n",
    "\n",
    "        offspring[a], offspring[b] = offspring[b], offspring[a]\n",
    "\n",
    "    return offspring\n",
    "    \n",
    "    \n",
    "def mutate_population(new_population_set):\n",
    "    mutated_pop = []\n",
    "    for offspring in new_population_set:\n",
    "        mutated_pop.append(mutate_offspring(offspring))\n",
    "    return mutated_pop\n",
    "\n",
    "mutated_pop = mutate_population(new_population_set)"
   ]
  },
  {
   "cell_type": "code",
   "execution_count": 31,
   "id": "7576ed4c",
   "metadata": {},
   "outputs": [
    {
     "name": "stdout",
     "output_type": "stream",
     "text": [
      "0 1571431.3115543886 1636655.271981449 15/12/22 14:51\n",
      "100 1576686.5033700315 1632291.3996701443 15/12/22 14:52\n",
      "200 1576546.4231065814 1631091.3322015407 15/12/22 14:52\n",
      "300 1574644.6104999734 1636722.5903480244 15/12/22 14:53\n",
      "400 1579007.3355248019 1636107.2192807132 15/12/22 14:54\n",
      "Time: 223.46098479999995\n"
     ]
    }
   ],
   "source": [
    "best_solution = [-1,np.inf,np.array([])]\n",
    "start = timer()\n",
    "for i in range(500):\n",
    "    if i%100==0: print(i, fitnes_list.min(), fitnes_list.mean(), datetime.now().strftime(\"%d/%m/%y %H:%M\"))\n",
    "    fitnes_list = get_all_fitnes(mutated_pop,cities_dict)\n",
    "    \n",
    "    #Saving the best solution\n",
    "    if fitnes_list.min() < best_solution[1]:\n",
    "        best_solution[0] = i\n",
    "        best_solution[1] = fitnes_list.min()\n",
    "        best_solution[2] = np.array(mutated_pop)[fitnes_list.min() == fitnes_list]\n",
    "    \n",
    "    progenitor_list = progenitor_selection(population_set,fitnes_list)\n",
    "    new_population_set = mate_population(progenitor_list)\n",
    "    \n",
    "    mutated_pop = mutate_population(new_population_set)\n",
    "end = timer()\n",
    "print(\"Time: {}\".format(end - start))"
   ]
  },
  {
   "cell_type": "code",
   "execution_count": 32,
   "id": "339a882c",
   "metadata": {},
   "outputs": [
    {
     "data": {
      "text/plain": [
       "1518658.5292124723"
      ]
     },
     "execution_count": 32,
     "metadata": {},
     "output_type": "execute_result"
    }
   ],
   "source": [
    "best_solution[1]"
   ]
  },
  {
   "cell_type": "code",
   "execution_count": null,
   "id": "51e85287",
   "metadata": {},
   "outputs": [],
   "source": []
  }
 ],
 "metadata": {
  "kernelspec": {
   "display_name": "Python 3 (ipykernel)",
   "language": "python",
   "name": "python3"
  },
  "language_info": {
   "codemirror_mode": {
    "name": "ipython",
    "version": 3
   },
   "file_extension": ".py",
   "mimetype": "text/x-python",
   "name": "python",
   "nbconvert_exporter": "python",
   "pygments_lexer": "ipython3",
   "version": "3.9.12"
  }
 },
 "nbformat": 4,
 "nbformat_minor": 5
}
