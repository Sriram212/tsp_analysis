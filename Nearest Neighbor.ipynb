{
 "cells": [
  {
   "cell_type": "code",
   "execution_count": 25,
   "id": "516ad090",
   "metadata": {},
   "outputs": [],
   "source": [
    "from __future__ import division\n",
    "import matplotlib.pyplot as plt\n",
    "import random\n",
    "import time\n",
    "from timeit import default_timer as timer\n",
    "import itertools\n",
    "import urllib\n",
    "import csv"
   ]
  },
  {
   "cell_type": "code",
   "execution_count": 41,
   "id": "5713d8fe",
   "metadata": {},
   "outputs": [],
   "source": [
    "def tour_length(tour):\n",
    "    \"The total of distances between each pair of consecutive cities in the tour.\"\n",
    "    return sum(distance(tour[i], tour[i-1]) \n",
    "               for i in range(len(tour)))"
   ]
  },
  {
   "cell_type": "code",
   "execution_count": 42,
   "id": "0c46ee8b",
   "metadata": {},
   "outputs": [],
   "source": [
    "def valid_tour(tour, cities):\n",
    "    \"Is tour a valid tour for these cities?\"\n",
    "    return set(tour) == set(cities) and len(tour) == len(cities)"
   ]
  },
  {
   "cell_type": "code",
   "execution_count": 15,
   "id": "d81bedf4",
   "metadata": {},
   "outputs": [],
   "source": [
    "# Cities are represented as Points, which are represented as complex numbers\n",
    "Point = complex\n",
    "City  = Point\n",
    "\n",
    "def X(point): \n",
    "    \"The x coordinate of a point.\"\n",
    "    return point.real\n",
    "\n",
    "def Y(point): \n",
    "    \"The y coordinate of a point.\"\n",
    "    return point.imag\n",
    "\n",
    "def distance(A, B): \n",
    "    \"The distance between two points.\"\n",
    "    return abs(A - B)"
   ]
  },
  {
   "cell_type": "code",
   "execution_count": 36,
   "id": "7f849d34",
   "metadata": {},
   "outputs": [],
   "source": [
    "def generate_cities(file):\n",
    "    file1 = open(file, 'r')\n",
    "    start = False\n",
    "    cities = []\n",
    "\n",
    "    while True:\n",
    "\n",
    "        # Get next line from file\n",
    "        line = file1.readline()\n",
    "\n",
    "        # if line is empty\n",
    "        # end of file is reached\n",
    "        if not line:\n",
    "            break\n",
    "\n",
    "        if start:\n",
    "            citystr, xstr, ystr = line.rstrip().split()\n",
    "            city = float(citystr)\n",
    "            x = float(xstr)\n",
    "            y = float(ystr)\n",
    "            cities.append(City(x, y))\n",
    "\n",
    "        if line == \"NODE_COORD_SECTION\\n\":\n",
    "            start = True\n",
    "    file1.close()\n",
    "    return set(cities)"
   ]
  },
  {
   "cell_type": "code",
   "execution_count": 18,
   "id": "ae8d0cc1",
   "metadata": {},
   "outputs": [],
   "source": [
    "def first(collection):\n",
    "    \"Start iterating over collection, and return the first element.\"\n",
    "    return next(iter(collection))"
   ]
  },
  {
   "cell_type": "code",
   "execution_count": 19,
   "id": "5536c15b",
   "metadata": {},
   "outputs": [],
   "source": [
    "def nn_tsp(cities, start=None):\n",
    "    \"\"\"Start the tour at the first city; at each step extend the tour \n",
    "    by moving from the previous city to its nearest neighbor \n",
    "    that has not yet been visited.\"\"\"\n",
    "    if start is None: start = first(cities)\n",
    "    tour = [start]\n",
    "    unvisited = set(cities - {start})\n",
    "    while unvisited:\n",
    "        C = nearest_neighbor(tour[-1], unvisited)\n",
    "        tour.append(C)\n",
    "        unvisited.remove(C)\n",
    "    return tour\n",
    "\n",
    "def nearest_neighbor(A, cities):\n",
    "    \"Find the city in cities that is nearest to city A.\"\n",
    "    return min(cities, key=lambda c: distance(c, A))"
   ]
  },
  {
   "cell_type": "code",
   "execution_count": 20,
   "id": "c75c923f",
   "metadata": {},
   "outputs": [],
   "source": [
    "def tour_length(tour):\n",
    "    \"The total of distances between each pair of consecutive cities in the tour.\"\n",
    "    return sum(distance(tour[i], tour[i-1]) \n",
    "               for i in range(len(tour)))\n",
    "\n",
    "def shortest_tour(tours): \n",
    "    \"Choose the tour with the minimum tour length.\"\n",
    "    return min(tours, key=tour_length)\n",
    "\n",
    "def repeated_nn_tsp(cities):\n",
    "    \"Repeat the nn_tsp algorithm starting from each city; return the shortest tour.\"\n",
    "    return shortest_tour(nn_tsp(cities, start) \n",
    "                         for start in cities)"
   ]
  },
  {
   "cell_type": "code",
   "execution_count": 37,
   "id": "c125b52a",
   "metadata": {},
   "outputs": [
    {
     "name": "stdout",
     "output_type": "stream",
     "text": [
      "Tour length: 6770.076921715761 \n",
      "Time in s: 0.009272399999872505\n"
     ]
    }
   ],
   "source": [
    "Djibouti_cities = generate_cities('Djibouti38.tsp')\n",
    "start = timer()\n",
    "djibouti_tsp = repeated_nn_tsp(Djibouti_cities)\n",
    "end = timer()\n",
    "print(\"Tour length: {} \\nTime in s: {}\".format(tour_length(djibouti_tsp), end - start))"
   ]
  },
  {
   "cell_type": "code",
   "execution_count": 38,
   "id": "897b98f0",
   "metadata": {},
   "outputs": [
    {
     "name": "stdout",
     "output_type": "stream",
     "text": [
      "Tour length: 97859.6695940262 \n",
      "Time in s: 46.026211299999886\n"
     ]
    }
   ],
   "source": [
    "Uruguay_cities = generate_cities('Uruguay734.tsp')\n",
    "start = timer()\n",
    "Uruguay_tsp = repeated_nn_tsp(Uruguay_cities)\n",
    "end = timer()\n",
    "print(\"Tour length: {} \\nTime in s: {}\".format(tour_length(Uruguay_tsp), end - start))"
   ]
  },
  {
   "cell_type": "code",
   "execution_count": 40,
   "id": "b514eee5",
   "metadata": {},
   "outputs": [
    {
     "name": "stdout",
     "output_type": "stream",
     "text": [
      "Tour length: 111815.83539627769 \n",
      "Time in s: 917.8859093999997\n"
     ]
    }
   ],
   "source": [
    "Oman_cities = generate_cities('Oman1979.tsp')\n",
    "start = timer()\n",
    "Oman_tsp = repeated_nn_tsp(Oman_cities)\n",
    "end = timer()\n",
    "print(\"Tour length: {} \\nTime in s: {}\".format(tour_length(Oman_tsp), end - start))"
   ]
  },
  {
   "cell_type": "code",
   "execution_count": null,
   "id": "b25d6614",
   "metadata": {},
   "outputs": [],
   "source": []
  }
 ],
 "metadata": {
  "kernelspec": {
   "display_name": "Python 3.9.13 64-bit (microsoft store)",
   "language": "python",
   "name": "python3"
  },
  "language_info": {
   "codemirror_mode": {
    "name": "ipython",
    "version": 3
   },
   "file_extension": ".py",
   "mimetype": "text/x-python",
   "name": "python",
   "nbconvert_exporter": "python",
   "pygments_lexer": "ipython3",
   "version": "3.9.13"
  },
  "vscode": {
   "interpreter": {
    "hash": "d0cd95bff98d3b2dcf1945b7eeda71dc1ec205b55f3a53858513fd9aa2cc287c"
   }
  }
 },
 "nbformat": 4,
 "nbformat_minor": 5
}
